{
 "cells": [
  {
   "cell_type": "code",
   "execution_count": null,
   "id": "d3e212d1",
   "metadata": {},
   "outputs": [
    {
     "data": {
      "application/vnd.microsoft.datawrangler.viewer.v0+json": {
       "columns": [
        {
         "name": "index",
         "rawType": "int64",
         "type": "integer"
        },
        {
         "name": "Nome",
         "rawType": "object",
         "type": "string"
        },
        {
         "name": "Nota",
         "rawType": "int64",
         "type": "integer"
        },
        {
         "name": "Posição",
         "rawType": "object",
         "type": "string"
        }
       ],
       "ref": "09babf4e-4778-4bef-990f-63449a172163",
       "rows": [
        [
         "0",
         "Lucas Martins",
         "3",
         "Zagueiros"
        ],
        [
         "1",
         "Diogo Davila",
         "5",
         "Meias/Atacantes"
        ],
        [
         "2",
         "Hector",
         "5",
         "Meias/Atacantes"
        ],
        [
         "3",
         "Elcy",
         "5",
         "Meias/Atacantes"
        ],
        [
         "4",
         "Mariano",
         "4",
         "Meias/Atacantes"
        ],
        [
         "5",
         "Rodrigo",
         "3",
         "Zagueiros"
        ],
        [
         "6",
         "Plínio",
         "3",
         "Zagueiros"
        ],
        [
         "7",
         "Adrian",
         "4",
         "Meias/Atacantes"
        ],
        [
         "8",
         "Lucas Rosa",
         "4",
         "Meias/Atacantes"
        ],
        [
         "9",
         "Eduardo",
         "4",
         "Meias/Atacantes"
        ],
        [
         "10",
         "João Vitor",
         "3",
         "Meias/Atacantes"
        ],
        [
         "11",
         "Julio Cesar",
         "3",
         "Meias/Atacantes"
        ],
        [
         "12",
         "Capucho",
         "3",
         "Zagueiros"
        ],
        [
         "13",
         "Rodrigo Nunes",
         "4",
         "Meias/Atacantes"
        ],
        [
         "14",
         "Bruno",
         "4",
         "Meias/Atacantes"
        ],
        [
         "15",
         "João",
         "4",
         "Meias/Atacantes"
        ],
        [
         "16",
         "Rafael",
         "5",
         "Meias/Atacantes"
        ],
        [
         "17",
         "Felipe",
         "3",
         "Meias/Atacantes"
        ]
       ],
       "shape": {
        "columns": 3,
        "rows": 18
       }
      },
      "text/html": [
       "<div>\n",
       "<style scoped>\n",
       "    .dataframe tbody tr th:only-of-type {\n",
       "        vertical-align: middle;\n",
       "    }\n",
       "\n",
       "    .dataframe tbody tr th {\n",
       "        vertical-align: top;\n",
       "    }\n",
       "\n",
       "    .dataframe thead th {\n",
       "        text-align: right;\n",
       "    }\n",
       "</style>\n",
       "<table border=\"1\" class=\"dataframe\">\n",
       "  <thead>\n",
       "    <tr style=\"text-align: right;\">\n",
       "      <th></th>\n",
       "      <th>Nome</th>\n",
       "      <th>Nota</th>\n",
       "      <th>Posição</th>\n",
       "    </tr>\n",
       "  </thead>\n",
       "  <tbody>\n",
       "    <tr>\n",
       "      <th>0</th>\n",
       "      <td>Lucas Martins</td>\n",
       "      <td>3</td>\n",
       "      <td>Zagueiros</td>\n",
       "    </tr>\n",
       "    <tr>\n",
       "      <th>1</th>\n",
       "      <td>Diogo Davila</td>\n",
       "      <td>5</td>\n",
       "      <td>Meias/Atacantes</td>\n",
       "    </tr>\n",
       "    <tr>\n",
       "      <th>2</th>\n",
       "      <td>Hector</td>\n",
       "      <td>5</td>\n",
       "      <td>Meias/Atacantes</td>\n",
       "    </tr>\n",
       "    <tr>\n",
       "      <th>3</th>\n",
       "      <td>Elcy</td>\n",
       "      <td>5</td>\n",
       "      <td>Meias/Atacantes</td>\n",
       "    </tr>\n",
       "    <tr>\n",
       "      <th>4</th>\n",
       "      <td>Mariano</td>\n",
       "      <td>4</td>\n",
       "      <td>Meias/Atacantes</td>\n",
       "    </tr>\n",
       "    <tr>\n",
       "      <th>5</th>\n",
       "      <td>Rodrigo</td>\n",
       "      <td>3</td>\n",
       "      <td>Zagueiros</td>\n",
       "    </tr>\n",
       "    <tr>\n",
       "      <th>6</th>\n",
       "      <td>Plínio</td>\n",
       "      <td>3</td>\n",
       "      <td>Zagueiros</td>\n",
       "    </tr>\n",
       "    <tr>\n",
       "      <th>7</th>\n",
       "      <td>Adrian</td>\n",
       "      <td>4</td>\n",
       "      <td>Meias/Atacantes</td>\n",
       "    </tr>\n",
       "    <tr>\n",
       "      <th>8</th>\n",
       "      <td>Lucas Rosa</td>\n",
       "      <td>4</td>\n",
       "      <td>Meias/Atacantes</td>\n",
       "    </tr>\n",
       "    <tr>\n",
       "      <th>9</th>\n",
       "      <td>Eduardo</td>\n",
       "      <td>4</td>\n",
       "      <td>Meias/Atacantes</td>\n",
       "    </tr>\n",
       "    <tr>\n",
       "      <th>10</th>\n",
       "      <td>João Vitor</td>\n",
       "      <td>3</td>\n",
       "      <td>Meias/Atacantes</td>\n",
       "    </tr>\n",
       "    <tr>\n",
       "      <th>11</th>\n",
       "      <td>Julio Cesar</td>\n",
       "      <td>3</td>\n",
       "      <td>Meias/Atacantes</td>\n",
       "    </tr>\n",
       "    <tr>\n",
       "      <th>12</th>\n",
       "      <td>Capucho</td>\n",
       "      <td>3</td>\n",
       "      <td>Zagueiros</td>\n",
       "    </tr>\n",
       "    <tr>\n",
       "      <th>13</th>\n",
       "      <td>Rodrigo Nunes</td>\n",
       "      <td>4</td>\n",
       "      <td>Meias/Atacantes</td>\n",
       "    </tr>\n",
       "    <tr>\n",
       "      <th>14</th>\n",
       "      <td>Bruno</td>\n",
       "      <td>4</td>\n",
       "      <td>Meias/Atacantes</td>\n",
       "    </tr>\n",
       "    <tr>\n",
       "      <th>15</th>\n",
       "      <td>João</td>\n",
       "      <td>4</td>\n",
       "      <td>Meias/Atacantes</td>\n",
       "    </tr>\n",
       "    <tr>\n",
       "      <th>16</th>\n",
       "      <td>Rafael</td>\n",
       "      <td>5</td>\n",
       "      <td>Meias/Atacantes</td>\n",
       "    </tr>\n",
       "    <tr>\n",
       "      <th>17</th>\n",
       "      <td>Felipe</td>\n",
       "      <td>3</td>\n",
       "      <td>Meias/Atacantes</td>\n",
       "    </tr>\n",
       "  </tbody>\n",
       "</table>\n",
       "</div>"
      ],
      "text/plain": [
       "             Nome  Nota          Posição\n",
       "0   Lucas Martins     3        Zagueiros\n",
       "1    Diogo Davila     5  Meias/Atacantes\n",
       "2          Hector     5  Meias/Atacantes\n",
       "3            Elcy     5  Meias/Atacantes\n",
       "4         Mariano     4  Meias/Atacantes\n",
       "5         Rodrigo     3        Zagueiros\n",
       "6          Plínio     3        Zagueiros\n",
       "7          Adrian     4  Meias/Atacantes\n",
       "8      Lucas Rosa     4  Meias/Atacantes\n",
       "9         Eduardo     4  Meias/Atacantes\n",
       "10     João Vitor     3  Meias/Atacantes\n",
       "11    Julio Cesar     3  Meias/Atacantes\n",
       "12        Capucho     3        Zagueiros\n",
       "13  Rodrigo Nunes     4  Meias/Atacantes\n",
       "14          Bruno     4  Meias/Atacantes\n",
       "15           João     4  Meias/Atacantes\n",
       "16         Rafael     5  Meias/Atacantes\n",
       "17         Felipe     3  Meias/Atacantes"
      ]
     },
     "metadata": {},
     "output_type": "display_data"
    },
    {
     "name": "stdout",
     "output_type": "stream",
     "text": [
      "3\n",
      "2\n",
      "1\n",
      "0\n"
     ]
    },
    {
     "data": {
      "application/vnd.microsoft.datawrangler.viewer.v0+json": {
       "columns": [
        {
         "name": "Time",
         "rawType": "int64",
         "type": "integer"
        },
        {
         "name": "count",
         "rawType": "int64",
         "type": "integer"
        }
       ],
       "ref": "7437a38f-4d7b-4a25-812e-ed02a103ac8a",
       "rows": [
        [
         "1",
         "9"
        ],
        [
         "2",
         "9"
        ]
       ],
       "shape": {
        "columns": 1,
        "rows": 2
       }
      },
      "text/plain": [
       "Time\n",
       "1    9\n",
       "2    9\n",
       "Name: count, dtype: int64"
      ]
     },
     "metadata": {},
     "output_type": "display_data"
    },
    {
     "data": {
      "application/vnd.microsoft.datawrangler.viewer.v0+json": {
       "columns": [
        {
         "name": "Time",
         "rawType": "int64",
         "type": "integer"
        },
        {
         "name": "Nota",
         "rawType": "int64",
         "type": "integer"
        }
       ],
       "ref": "784305a0-c9f4-4c5c-a0ce-a8d9390651ec",
       "rows": [
        [
         "1",
         "35"
        ],
        [
         "2",
         "34"
        ]
       ],
       "shape": {
        "columns": 1,
        "rows": 2
       }
      },
      "text/html": [
       "<div>\n",
       "<style scoped>\n",
       "    .dataframe tbody tr th:only-of-type {\n",
       "        vertical-align: middle;\n",
       "    }\n",
       "\n",
       "    .dataframe tbody tr th {\n",
       "        vertical-align: top;\n",
       "    }\n",
       "\n",
       "    .dataframe thead th {\n",
       "        text-align: right;\n",
       "    }\n",
       "</style>\n",
       "<table border=\"1\" class=\"dataframe\">\n",
       "  <thead>\n",
       "    <tr style=\"text-align: right;\">\n",
       "      <th></th>\n",
       "      <th>Nota</th>\n",
       "    </tr>\n",
       "    <tr>\n",
       "      <th>Time</th>\n",
       "      <th></th>\n",
       "    </tr>\n",
       "  </thead>\n",
       "  <tbody>\n",
       "    <tr>\n",
       "      <th>1</th>\n",
       "      <td>35</td>\n",
       "    </tr>\n",
       "    <tr>\n",
       "      <th>2</th>\n",
       "      <td>34</td>\n",
       "    </tr>\n",
       "  </tbody>\n",
       "</table>\n",
       "</div>"
      ],
      "text/plain": [
       "      Nota\n",
       "Time      \n",
       "1       35\n",
       "2       34"
      ]
     },
     "metadata": {},
     "output_type": "display_data"
    },
    {
     "data": {
      "application/vnd.microsoft.datawrangler.viewer.v0+json": {
       "columns": [
        {
         "name": "index",
         "rawType": "int64",
         "type": "integer"
        },
        {
         "name": "Nome",
         "rawType": "object",
         "type": "string"
        },
        {
         "name": "Nota",
         "rawType": "int64",
         "type": "integer"
        },
        {
         "name": "Posição",
         "rawType": "object",
         "type": "string"
        },
        {
         "name": "Grupo",
         "rawType": "int64",
         "type": "integer"
        },
        {
         "name": "Time",
         "rawType": "int64",
         "type": "integer"
        }
       ],
       "ref": "6eaf036f-c340-4d37-8455-2001f989ade1",
       "rows": [
        [
         "4",
         "Diogo Davila",
         "5",
         "Meias/Atacantes",
         "2",
         "1"
        ],
        [
         "5",
         "Hector",
         "5",
         "Meias/Atacantes",
         "2",
         "1"
        ],
        [
         "8",
         "Mariano",
         "4",
         "Meias/Atacantes",
         "1",
         "1"
        ],
        [
         "9",
         "Adrian",
         "4",
         "Meias/Atacantes",
         "1",
         "1"
        ],
        [
         "10",
         "Lucas Rosa",
         "4",
         "Meias/Atacantes",
         "1",
         "1"
        ],
        [
         "11",
         "Eduardo",
         "4",
         "Meias/Atacantes",
         "1",
         "1"
        ],
        [
         "17",
         "Felipe",
         "3",
         "Meias/Atacantes",
         "0",
         "1"
        ],
        [
         "0",
         "Lucas Martins",
         "3",
         "Zagueiros",
         "3",
         "1"
        ],
        [
         "1",
         "Rodrigo",
         "3",
         "Zagueiros",
         "3",
         "1"
        ],
        [
         "6",
         "Elcy",
         "5",
         "Meias/Atacantes",
         "2",
         "2"
        ],
        [
         "7",
         "Rafael",
         "5",
         "Meias/Atacantes",
         "2",
         "2"
        ],
        [
         "12",
         "Rodrigo Nunes",
         "4",
         "Meias/Atacantes",
         "1",
         "2"
        ],
        [
         "13",
         "Bruno",
         "4",
         "Meias/Atacantes",
         "1",
         "2"
        ],
        [
         "14",
         "João",
         "4",
         "Meias/Atacantes",
         "1",
         "2"
        ],
        [
         "15",
         "João Vitor",
         "3",
         "Meias/Atacantes",
         "0",
         "2"
        ],
        [
         "16",
         "Julio Cesar",
         "3",
         "Meias/Atacantes",
         "0",
         "2"
        ],
        [
         "2",
         "Plínio",
         "3",
         "Zagueiros",
         "3",
         "2"
        ],
        [
         "3",
         "Capucho",
         "3",
         "Zagueiros",
         "3",
         "2"
        ]
       ],
       "shape": {
        "columns": 5,
        "rows": 18
       }
      },
      "text/html": [
       "<div>\n",
       "<style scoped>\n",
       "    .dataframe tbody tr th:only-of-type {\n",
       "        vertical-align: middle;\n",
       "    }\n",
       "\n",
       "    .dataframe tbody tr th {\n",
       "        vertical-align: top;\n",
       "    }\n",
       "\n",
       "    .dataframe thead th {\n",
       "        text-align: right;\n",
       "    }\n",
       "</style>\n",
       "<table border=\"1\" class=\"dataframe\">\n",
       "  <thead>\n",
       "    <tr style=\"text-align: right;\">\n",
       "      <th></th>\n",
       "      <th>Nome</th>\n",
       "      <th>Nota</th>\n",
       "      <th>Posição</th>\n",
       "      <th>Grupo</th>\n",
       "      <th>Time</th>\n",
       "    </tr>\n",
       "  </thead>\n",
       "  <tbody>\n",
       "    <tr>\n",
       "      <th>4</th>\n",
       "      <td>Diogo Davila</td>\n",
       "      <td>5</td>\n",
       "      <td>Meias/Atacantes</td>\n",
       "      <td>2</td>\n",
       "      <td>1</td>\n",
       "    </tr>\n",
       "    <tr>\n",
       "      <th>5</th>\n",
       "      <td>Hector</td>\n",
       "      <td>5</td>\n",
       "      <td>Meias/Atacantes</td>\n",
       "      <td>2</td>\n",
       "      <td>1</td>\n",
       "    </tr>\n",
       "    <tr>\n",
       "      <th>8</th>\n",
       "      <td>Mariano</td>\n",
       "      <td>4</td>\n",
       "      <td>Meias/Atacantes</td>\n",
       "      <td>1</td>\n",
       "      <td>1</td>\n",
       "    </tr>\n",
       "    <tr>\n",
       "      <th>9</th>\n",
       "      <td>Adrian</td>\n",
       "      <td>4</td>\n",
       "      <td>Meias/Atacantes</td>\n",
       "      <td>1</td>\n",
       "      <td>1</td>\n",
       "    </tr>\n",
       "    <tr>\n",
       "      <th>10</th>\n",
       "      <td>Lucas Rosa</td>\n",
       "      <td>4</td>\n",
       "      <td>Meias/Atacantes</td>\n",
       "      <td>1</td>\n",
       "      <td>1</td>\n",
       "    </tr>\n",
       "    <tr>\n",
       "      <th>11</th>\n",
       "      <td>Eduardo</td>\n",
       "      <td>4</td>\n",
       "      <td>Meias/Atacantes</td>\n",
       "      <td>1</td>\n",
       "      <td>1</td>\n",
       "    </tr>\n",
       "    <tr>\n",
       "      <th>17</th>\n",
       "      <td>Felipe</td>\n",
       "      <td>3</td>\n",
       "      <td>Meias/Atacantes</td>\n",
       "      <td>0</td>\n",
       "      <td>1</td>\n",
       "    </tr>\n",
       "    <tr>\n",
       "      <th>0</th>\n",
       "      <td>Lucas Martins</td>\n",
       "      <td>3</td>\n",
       "      <td>Zagueiros</td>\n",
       "      <td>3</td>\n",
       "      <td>1</td>\n",
       "    </tr>\n",
       "    <tr>\n",
       "      <th>1</th>\n",
       "      <td>Rodrigo</td>\n",
       "      <td>3</td>\n",
       "      <td>Zagueiros</td>\n",
       "      <td>3</td>\n",
       "      <td>1</td>\n",
       "    </tr>\n",
       "    <tr>\n",
       "      <th>6</th>\n",
       "      <td>Elcy</td>\n",
       "      <td>5</td>\n",
       "      <td>Meias/Atacantes</td>\n",
       "      <td>2</td>\n",
       "      <td>2</td>\n",
       "    </tr>\n",
       "    <tr>\n",
       "      <th>7</th>\n",
       "      <td>Rafael</td>\n",
       "      <td>5</td>\n",
       "      <td>Meias/Atacantes</td>\n",
       "      <td>2</td>\n",
       "      <td>2</td>\n",
       "    </tr>\n",
       "    <tr>\n",
       "      <th>12</th>\n",
       "      <td>Rodrigo Nunes</td>\n",
       "      <td>4</td>\n",
       "      <td>Meias/Atacantes</td>\n",
       "      <td>1</td>\n",
       "      <td>2</td>\n",
       "    </tr>\n",
       "    <tr>\n",
       "      <th>13</th>\n",
       "      <td>Bruno</td>\n",
       "      <td>4</td>\n",
       "      <td>Meias/Atacantes</td>\n",
       "      <td>1</td>\n",
       "      <td>2</td>\n",
       "    </tr>\n",
       "    <tr>\n",
       "      <th>14</th>\n",
       "      <td>João</td>\n",
       "      <td>4</td>\n",
       "      <td>Meias/Atacantes</td>\n",
       "      <td>1</td>\n",
       "      <td>2</td>\n",
       "    </tr>\n",
       "    <tr>\n",
       "      <th>15</th>\n",
       "      <td>João Vitor</td>\n",
       "      <td>3</td>\n",
       "      <td>Meias/Atacantes</td>\n",
       "      <td>0</td>\n",
       "      <td>2</td>\n",
       "    </tr>\n",
       "    <tr>\n",
       "      <th>16</th>\n",
       "      <td>Julio Cesar</td>\n",
       "      <td>3</td>\n",
       "      <td>Meias/Atacantes</td>\n",
       "      <td>0</td>\n",
       "      <td>2</td>\n",
       "    </tr>\n",
       "    <tr>\n",
       "      <th>2</th>\n",
       "      <td>Plínio</td>\n",
       "      <td>3</td>\n",
       "      <td>Zagueiros</td>\n",
       "      <td>3</td>\n",
       "      <td>2</td>\n",
       "    </tr>\n",
       "    <tr>\n",
       "      <th>3</th>\n",
       "      <td>Capucho</td>\n",
       "      <td>3</td>\n",
       "      <td>Zagueiros</td>\n",
       "      <td>3</td>\n",
       "      <td>2</td>\n",
       "    </tr>\n",
       "  </tbody>\n",
       "</table>\n",
       "</div>"
      ],
      "text/plain": [
       "             Nome  Nota          Posição  Grupo  Time\n",
       "4    Diogo Davila     5  Meias/Atacantes      2     1\n",
       "5          Hector     5  Meias/Atacantes      2     1\n",
       "8         Mariano     4  Meias/Atacantes      1     1\n",
       "9          Adrian     4  Meias/Atacantes      1     1\n",
       "10     Lucas Rosa     4  Meias/Atacantes      1     1\n",
       "11        Eduardo     4  Meias/Atacantes      1     1\n",
       "17         Felipe     3  Meias/Atacantes      0     1\n",
       "0   Lucas Martins     3        Zagueiros      3     1\n",
       "1         Rodrigo     3        Zagueiros      3     1\n",
       "6            Elcy     5  Meias/Atacantes      2     2\n",
       "7          Rafael     5  Meias/Atacantes      2     2\n",
       "12  Rodrigo Nunes     4  Meias/Atacantes      1     2\n",
       "13          Bruno     4  Meias/Atacantes      1     2\n",
       "14           João     4  Meias/Atacantes      1     2\n",
       "15     João Vitor     3  Meias/Atacantes      0     2\n",
       "16    Julio Cesar     3  Meias/Atacantes      0     2\n",
       "2          Plínio     3        Zagueiros      3     2\n",
       "3         Capucho     3        Zagueiros      3     2"
      ]
     },
     "metadata": {},
     "output_type": "display_data"
    }
   ],
   "source": [
    "import pandas as pd\n",
    "\n",
    "# Caminho do arquivo\n",
    "arquivo = r\"Lista Pelada.xlsx\"  \n",
    "# Lê a planilha\n",
    "df = pd.read_excel(arquivo,sheet_name='Lista_pelada')\n",
    "display(df)\n",
    "df['Grupo'] = df.groupby(['Posição','Nota']).ngroup()\n",
    "df['Time'] = 0\n",
    "dfs = []\n",
    "pref_time1 = True \n",
    "for grupo in df['Grupo'].drop_duplicates():\n",
    "    print(grupo)\n",
    "    df_grupo = df[df['Grupo'] == grupo ].reset_index(drop=True)\n",
    "    n_grupo = len(df_grupo)\n",
    "    if (n_grupo %2 == 0) :\n",
    "        metade = int (n_grupo/2)-1\n",
    "        df_grupo.loc[0:metade,'Time'] = 1\n",
    "        df_grupo.loc[metade+1:n_grupo,'Time'] = 2\n",
    "    else:   #  número ímpar, verifica quem tem preferência\n",
    "        parte_maior = int((n_grupo+1)/2-1)\n",
    "        if pref_time1:             \n",
    "            df_grupo.loc[0:parte_maior,'Time'] = 1\n",
    "            df_grupo.loc[parte_maior+1:n_grupo,'Time'] = 2\n",
    "            pref_time1 = False                  \n",
    "        else:\n",
    "            df_grupo.loc[0:parte_maior,'Time'] = 2\n",
    "            df_grupo.loc[parte_maior+1:n_grupo,'Time'] = 1\n",
    "            pref_time1 = True\n",
    "    dfs.append (df_grupo)\n",
    "df_final = pd.concat(dfs,ignore_index=True)\n",
    "display(df_final['Time'].value_counts())\n",
    "display(df_final[['Nota','Time']].groupby('Time').sum())\n",
    "df_final.sort_values(by=['Time','Posição','Nota'], ascending=[True, True, False], inplace=True)\n",
    "display(df_final)\n",
    "df_final.to_excel(\"Divisão_times.xlsx\",index=False)\n"
   ]
  }
 ],
 "metadata": {
  "kernelspec": {
   "display_name": "base",
   "language": "python",
   "name": "python3"
  },
  "language_info": {
   "codemirror_mode": {
    "name": "ipython",
    "version": 3
   },
   "file_extension": ".py",
   "mimetype": "text/x-python",
   "name": "python",
   "nbconvert_exporter": "python",
   "pygments_lexer": "ipython3",
   "version": "3.12.4"
  }
 },
 "nbformat": 4,
 "nbformat_minor": 5
}
